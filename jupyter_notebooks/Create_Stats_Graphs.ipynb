{
 "cells": [
  {
   "cell_type": "markdown",
   "id": "7027b2d6-7bc9-479e-b0a6-2bc69680751d",
   "metadata": {},
   "source": [
    "# User Input"
   ]
  },
  {
   "cell_type": "code",
   "execution_count": null,
   "id": "51b5a1b2-8736-4e2e-a7ca-d28dc0814454",
   "metadata": {},
   "outputs": [],
   "source": [
    "# Directory to zonal_stats files run from `submit_zonal_stats.sh`\n",
    "directory_canada = \"/home/khb47/ABoVE/scripts/zonal_stats/zonal_stats_Canada_*.txt\"\n",
    "directory_epa2_above = \"/home/khb47/ABoVE/scripts/zonal_stats/zonal_stats_EPA2_*ABoVE*.txt\"\n",
    "directory_epa2_canada = \"/home/khb47/ABoVE/scripts/zonal_stats/zonal_stats_EPA2_*Canada*.txt\"\n",
    "\n",
    "# Stats one wants to visualize:\n",
    "visualize = 'EPA2' # Can be Canada or EPA2"
   ]
  },
  {
   "cell_type": "markdown",
   "id": "49935860-c9df-461e-a2b3-e3378a75adce",
   "metadata": {},
   "source": [
    "# Code used to get correct ecoregions"
   ]
  },
  {
   "cell_type": "raw",
   "id": "cb59c3d7-5332-478c-9129-7d724cfa98f2",
   "metadata": {},
   "source": [
    "from shapely.ops import unary_union\n",
    "epa_shapefile = \"/projects/arctic/share/ABoVE_Biomass/OtherSpatialDatasets/EPA_ecoregion_lvl2_clipped_102001.shp\"\n",
    "shapes = gpd.read_file(epa_shapefile)"
   ]
  },
  {
   "cell_type": "raw",
   "id": "c9bf9d3d-1661-468b-9c93-4d007b400edf",
   "metadata": {},
   "source": [
    "combined_gdf = shapes.groupby(['NA_L2CODE', 'NA_L2NAME', 'NA_L2KEY']).agg({'geometry': unary_union}).reset_index()\n",
    "\n",
    "# Optionally, re-order or rename the columns as needed\n",
    "combined_gdf = combined_gdf[['NA_L2CODE', 'NA_L2NAME', 'NA_L2KEY', 'geometry']]\n",
    "combined_gdf = combined_gdf.set_geometry('geometry')\n",
    "\n",
    "# Display the resulting combined GeoDataFrame\n",
    "combined_gdf"
   ]
  },
  {
   "cell_type": "markdown",
   "id": "e0509243-c527-4ed1-8612-52eef7a86fd7",
   "metadata": {},
   "source": [
    "# Set up\n",
    "Import the libraries, load the shapefiles and create tables for the zonal statistics"
   ]
  },
  {
   "cell_type": "code",
   "execution_count": null,
   "id": "fa93b90b-d7f3-4cd4-974b-898b1d5a35f2",
   "metadata": {},
   "outputs": [],
   "source": [
    "import pandas as pd\n",
    "import matplotlib.pyplot as plt\n",
    "import seaborn as sns\n",
    "import geopandas as gpd\n",
    "import matplotlib.pyplot as plt\n",
    "from matplotlib import colors\n",
    "import glob\n",
    "import os"
   ]
  },
  {
   "cell_type": "code",
   "execution_count": null,
   "id": "00c96eb4-daea-4ec1-8ef0-18128bf9aad7",
   "metadata": {},
   "outputs": [],
   "source": [
    "# Load the shapefiles\n",
    "epa_shapefile = \"/projects/arctic/share/ABoVE_Biomass/OtherSpatialDatasets/EPA_ecoregion_lvl2_102001.shp\"\n",
    "canada_shapefile = \"/projects/arctic/share/ABoVE_Biomass/OtherSpatialDatasets/CanadaAlaska_Boundaries_102001.shp\"\n",
    "epa_gdf = gpd.read_file(epa_shapefile)\n",
    "canada_gdf = gpd.read_file(canada_shapefile)"
   ]
  },
  {
   "cell_type": "code",
   "execution_count": null,
   "id": "58f50613-24d1-4b1f-8aa2-f2934b85e187",
   "metadata": {},
   "outputs": [],
   "source": [
    "# Make the Canada zonal stats data\n",
    "canada_alaska = pd.DataFrame()\n",
    "for file in glob.glob(directory_canada):\n",
    "    base_name = os.path.basename(file) \n",
    "    dataset_name = base_name[len(\"zonal_stats_Canada_\"):-len(\".txt\")]\n",
    "    dataset_canada_alaska = pd.read_csv(file, delimiter=', ', engine='python')\n",
    "    dataset_canada_alaska['Dataset'] = dataset_name.split('_')[0]\n",
    "    canada_alaska = pd.concat([canada_alaska, dataset_canada_alaska], ignore_index=True)\n",
    "canada_alaska.head()"
   ]
  },
  {
   "cell_type": "code",
   "execution_count": null,
   "id": "ab0b19bf-7141-474d-abfd-6e5e5aef56e3",
   "metadata": {},
   "outputs": [],
   "source": [
    "# Make the Above EPA2 zonal stats data\n",
    "above_epa2 = pd.DataFrame()\n",
    "for file in glob.glob(directory_epa2_above):\n",
    "    base_name = os.path.basename(file) \n",
    "    dataset_name = base_name[len(\"zonal_stats_EPA2_\"):-len(\".txt\")]\n",
    "    dataset_above_epa2 = pd.read_csv(file, delimiter=', ', engine='python')\n",
    "    dataset_above_epa2['Dataset'] = dataset_name.split('_')[0]\n",
    "    above_epa2 = pd.concat([above_epa2, dataset_above_epa2], ignore_index=True)\n",
    "above_epa2 = above_epa2.dropna(subset=['Mean'])\n",
    "\n",
    "# Make the Canada EPA2 zonal stats data\n",
    "canada_epa2 = pd.DataFrame()\n",
    "for file in glob.glob(directory_epa2_canada):\n",
    "    base_name = os.path.basename(file) \n",
    "    dataset_name = base_name[len(\"zonal_stats_EPA2_\"):-len(\".txt\")]\n",
    "    dataset_canada_epa2 = pd.read_csv(file, delimiter=', ', engine='python')\n",
    "    dataset_canada_epa2['Dataset'] = dataset_name.split('_')[0]\n",
    "    canada_epa2 = pd.concat([canada_epa2, dataset_canada_epa2], ignore_index=True)\n",
    "canada_epa2 = canada_epa2.dropna(subset=['Mean'])\n",
    "\n",
    "# Make the combined epa2 dataframe\n",
    "combined_epa2 = pd.concat([canada_epa2, above_epa2], ignore_index=True)\n",
    "epa2 = combined_epa2.loc[combined_epa2.groupby(['Zone', 'Dataset'])['Coverage'].idxmax()]\n",
    "epa2.head()"
   ]
  },
  {
   "cell_type": "markdown",
   "id": "962183e0-0142-4405-a668-19c5d7f256d2",
   "metadata": {},
   "source": [
    "# Visualization of Zonal Stats\n",
    "In the cell below you can change which type of file you are looking at, either Canada, or EPA2"
   ]
  },
  {
   "cell_type": "code",
   "execution_count": null,
   "id": "bbc52473-d555-4cd3-955e-c98d67307a3d",
   "metadata": {},
   "outputs": [],
   "source": [
    "# Change these depending on the region you want\n",
    "if visualize == 'Canada':\n",
    "    df = canada_alaska.copy()\n",
    "    excluded_zones = ['AK', 'NT', 'NU']\n",
    "    df = df[~df['Zone'].isin(excluded_zones)]\n",
    "    shapefile = canada_gdf.copy()\n",
    "    key = 'postal'\n",
    "elif visualize == 'EPA2':\n",
    "    df = epa2.copy()\n",
    "    shapefile = epa_gdf.copy()\n",
    "    key = 'NA_L2KEY'"
   ]
  },
  {
   "cell_type": "markdown",
   "id": "498e392f-acfd-4c90-9ac4-4bcbee676bf2",
   "metadata": {},
   "source": [
    "## Bar chart of mean values across a dataset"
   ]
  },
  {
   "cell_type": "code",
   "execution_count": null,
   "id": "31095d78-d4dc-448e-be0e-187297a91a28",
   "metadata": {},
   "outputs": [],
   "source": [
    "# Set a consistent order and color palette\n",
    "dataset_order = ['Duncanson2023', 'Guindon2023', 'Soto-Navarro2020', 'SpawnGibbs2020', 'Xu2021']  # Adjust to match actual dataset names\n",
    "palette = sns.color_palette('mako', n_colors=len(dataset_order))\n",
    "\n",
    "df['Dataset'] = pd.Categorical(df['Dataset'], categories=dataset_order, ordered=True)\n",
    "\n",
    "# Group by Zone and Dataset, then plot the mean values\n",
    "grouped_mean = df.groupby(['Zone', 'Dataset'], observed=False)['Mean'].mean().unstack()"
   ]
  },
  {
   "cell_type": "code",
   "execution_count": null,
   "id": "ad91ecc9-562b-47c6-8fed-8b37b085ed02",
   "metadata": {},
   "outputs": [],
   "source": [
    "# Convert 'Mean' to numeric\n",
    "df['Mean'] = pd.to_numeric(df['Mean'], errors='coerce')\n",
    "\n",
    "# Group by Zone and Dataset, then plot the mean values\n",
    "grouped_mean.plot(kind='bar', figsize=(12, 6), color=palette)\n",
    "plt.title('Mean Biomass Across Datasets by Zone')\n",
    "plt.xlabel('Zone')\n",
    "plt.ylabel('Mean Biomass')\n",
    "plt.legend(title='Dataset', bbox_to_anchor=(1.05, 1), loc='upper left')\n",
    "plt.xticks(rotation=45)\n",
    "plt.tight_layout()\n",
    "plt.show()"
   ]
  },
  {
   "cell_type": "markdown",
   "id": "b2fb3dcf-18d5-4cde-a5cf-b9b1c74d00e4",
   "metadata": {},
   "source": [
    "## Boxplot of Distribution by dataset"
   ]
  },
  {
   "cell_type": "code",
   "execution_count": null,
   "id": "fa6ee415-ef36-4872-ae09-faebc47fd6d7",
   "metadata": {},
   "outputs": [],
   "source": [
    "sns.boxplot(x='Dataset', y='Mean', data=df, order=dataset_order, palette=palette)\n",
    "plt.title(\"Distribution of Mean Biomass by Dataset - Canada\")\n",
    "plt.ylabel(\"Mean Biomass\")\n",
    "plt.xticks(rotation=45)\n",
    "plt.tight_layout()\n",
    "plt.show()"
   ]
  },
  {
   "cell_type": "markdown",
   "id": "e6729676-2a16-41e4-99f7-46517946fb26",
   "metadata": {},
   "source": [
    "## Choropleth Maps"
   ]
  },
  {
   "cell_type": "code",
   "execution_count": null,
   "id": "988a106a-f62e-4fea-adba-f395196f5e7d",
   "metadata": {},
   "outputs": [],
   "source": [
    "import matplotlib.pyplot as plt\n",
    "import geopandas as gpd\n",
    "import pandas as pd\n",
    "\n",
    "# Merge DataFrame with GeoDataFrame\n",
    "df_geo = shapefile.merge(df, left_on=key, right_on='Zone')\n",
    "df_geo[['Mean', 'Median', 'Sum', 'Std']] = df_geo[['Mean', 'Median', 'Sum', 'Std']].round(2)\n",
    "\n",
    "# Create a grid of plots (2 rows, adjustable columns)\n",
    "datasets = df['Dataset'].unique()\n",
    "n_cols = 2\n",
    "n_rows = (len(datasets) + n_cols - 1) // n_cols\n",
    "\n",
    "fig, axes = plt.subplots(n_rows, n_cols, figsize=(16, 10), constrained_layout=True)\n",
    "axes = axes.flatten()\n",
    "\n",
    "for i, dataset in enumerate(datasets):\n",
    "    df_subset = df_geo[df_geo['Dataset'] == dataset]\n",
    "    \n",
    "    # Individual scale for each plot\n",
    "    vmin = df_subset['Mean'].min()\n",
    "    vmax = df_subset['Mean'].max()\n",
    "    \n",
    "    ax = df_subset.plot(\n",
    "        column='Mean',\n",
    "        cmap='viridis',\n",
    "        legend=True,\n",
    "        ax=axes[i],\n",
    "        vmin=vmin,\n",
    "        vmax=vmax\n",
    "    )\n",
    "    \n",
    "    ax.set_title(f'Mean Biomass Values ({dataset})', fontsize=12)\n",
    "    ax.set_axis_off()\n",
    "\n",
    "    # Add labels with ± for standard deviation\n",
    "    for x, y, mean in zip(df_subset.geometry.centroid.x, \n",
    "                                df_subset.geometry.centroid.y, \n",
    "                                df_subset['Mean'].round(2)):\n",
    "        if not pd.isnull(mean):\n",
    "            label = f'{mean}' \n",
    "            ax.annotate(\n",
    "                text=label, \n",
    "                xy=(x, y), \n",
    "                ha='center', \n",
    "                fontsize=8, \n",
    "                color='black',\n",
    "                bbox=dict(boxstyle=\"round,pad=0.3\", edgecolor='none', facecolor='white', alpha=0.6)\n",
    "            )\n",
    "\n",
    "# Remove any empty subplots (if the number of datasets < grid size)\n",
    "for j in range(i + 1, n_rows * n_cols):\n",
    "    fig.delaxes(axes[j])\n",
    "\n",
    "plt.show()\n"
   ]
  },
  {
   "cell_type": "markdown",
   "id": "b0d667cc-f558-42e8-8422-96272a2fbead",
   "metadata": {},
   "source": [
    "## Summary Table using a Heatmap"
   ]
  },
  {
   "cell_type": "code",
   "execution_count": null,
   "id": "a98b7a83-0783-4989-8641-f4241200d682",
   "metadata": {},
   "outputs": [],
   "source": [
    "summary_table = df.groupby(['Zone', 'Dataset']).agg(\n",
    "    Mean=('Mean', 'mean'),\n",
    "    Median=('Median', 'mean'),\n",
    "    Sum=('Sum', 'sum'),\n",
    "    Std=('Std', 'mean')\n",
    ")\n",
    "\n",
    "# Could print out summary table\n",
    "#print(summary_table)\n",
    "\n",
    "# Visualize using a heatmap\n",
    "summary_pivot = summary_table.reset_index().pivot(index='Zone', columns='Dataset', values='Mean')\n",
    "sns.heatmap(summary_pivot, cmap='coolwarm', annot=True, fmt=\".2f\", cbar_kws={'label': 'Mean Biomass Value'})\n",
    "plt.title('Heatmap of Mean Biomass Values by Zone and Dataset')\n",
    "plt.show()\n"
   ]
  },
  {
   "cell_type": "code",
   "execution_count": null,
   "id": "3b037784-cd6b-44e1-96f1-eef01e512020",
   "metadata": {},
   "outputs": [],
   "source": []
  }
 ],
 "metadata": {
  "kernelspec": {
   "display_name": "ABoVE2024-conda-env",
   "language": "python",
   "name": "auto_above2024"
  },
  "language_info": {
   "codemirror_mode": {
    "name": "ipython",
    "version": 3
   },
   "file_extension": ".py",
   "mimetype": "text/x-python",
   "name": "python",
   "nbconvert_exporter": "python",
   "pygments_lexer": "ipython3",
   "version": "3.12.7"
  }
 },
 "nbformat": 4,
 "nbformat_minor": 5
}
