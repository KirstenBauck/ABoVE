{
 "cells": [
  {
   "cell_type": "markdown",
   "id": "7027b2d6-7bc9-479e-b0a6-2bc69680751d",
   "metadata": {},
   "source": [
    "# User Input"
   ]
  },
  {
   "cell_type": "code",
   "execution_count": null,
   "id": "51b5a1b2-8736-4e2e-a7ca-d28dc0814454",
   "metadata": {},
   "outputs": [],
   "source": [
    "# Directory to zonal_stats files run from `submit_zonal_stats.sh`\n",
    "directory_canadaAlaska = \"/home/khb47/ABoVE/scripts/zonal_stats_CanadaAlaska_*.txt\"\n",
    "directory_epa2 = \"/home/khb47/ABoVE/scripts/zonal_stats_EPA2_*.txt\"\n",
    "\n",
    "# Stats one wants to visualize:\n",
    "visualize = 'CanadaAlaska' # Can be CanadaAlaska or EPA2"
   ]
  },
  {
   "cell_type": "markdown",
   "id": "e0509243-c527-4ed1-8612-52eef7a86fd7",
   "metadata": {},
   "source": [
    "# Set up\n",
    "Import the libraries, load the shapefiles and create tables for the zonal statistics"
   ]
  },
  {
   "cell_type": "code",
   "execution_count": null,
   "id": "fa93b90b-d7f3-4cd4-974b-898b1d5a35f2",
   "metadata": {},
   "outputs": [],
   "source": [
    "import pandas as pd\n",
    "import matplotlib.pyplot as plt\n",
    "import seaborn as sns\n",
    "import geopandas as gpd\n",
    "import matplotlib.pyplot as plt\n",
    "from matplotlib import colors\n",
    "import glob\n",
    "import os"
   ]
  },
  {
   "cell_type": "code",
   "execution_count": null,
   "id": "00c96eb4-daea-4ec1-8ef0-18128bf9aad7",
   "metadata": {},
   "outputs": [],
   "source": [
    "# Load the shapefiles\n",
    "epa_shapefile = \"/projects/arctic/share/ABoVE_Biomass/OtherSpatialDatasets/EPA_ecoregion_lvl2_clipped_102001.shp\"\n",
    "canada_shapefile = \"/projects/arctic/share/ABoVE_Biomass/OtherSpatialDatasets/CanadaAlaska_Boundaries_102001.shp\"\n",
    "epa_gdf = gpd.read_file(epa_shapefile)\n",
    "canada_gdf = gpd.read_file(canada_shapefile)"
   ]
  },
  {
   "cell_type": "code",
   "execution_count": null,
   "id": "58f50613-24d1-4b1f-8aa2-f2934b85e187",
   "metadata": {},
   "outputs": [],
   "source": [
    "# Make the Canada Alaska zonal stats data\n",
    "canada_alaska = pd.DataFrame()\n",
    "for file in glob.glob(directory_canadaAlaska):\n",
    "    base_name = os.path.basename(file) \n",
    "    dataset_name = base_name[len(\"zonal_stats_CanadaAlaska_\"):-len(\".txt\")]\n",
    "    dataset_canada_alaska = pd.read_csv(file, delimiter=', ', engine='python')\n",
    "    dataset_canada_alaska['dataset'] = dataset_name.split('_')[0]\n",
    "    canada_alaska = pd.concat([canada_alaska, dataset_canada_alaska], ignore_index=True)\n",
    "canada_alaska.head()"
   ]
  },
  {
   "cell_type": "code",
   "execution_count": null,
   "id": "ab0b19bf-7141-474d-abfd-6e5e5aef56e3",
   "metadata": {},
   "outputs": [],
   "source": [
    "# Make the EPA2 zonal stats data\n",
    "epa2 = pd.DataFrame()\n",
    "for file in glob.glob(directory_epa2):\n",
    "    base_name = os.path.basename(file) \n",
    "    dataset_name = base_name[len(\"zonal_stats_EPA2_\"):-len(\".txt\")]\n",
    "    dataset_epa2 = pd.read_csv(file, delimiter=', ', engine='python')\n",
    "    dataset_epa2['dataset'] = dataset_name.split('_')[0]\n",
    "    epa2 = pd.concat([epa2, dataset_epa2], ignore_index=True)\n",
    "epa2.head()"
   ]
  },
  {
   "cell_type": "markdown",
   "id": "962183e0-0142-4405-a668-19c5d7f256d2",
   "metadata": {},
   "source": [
    "# Visualization of Zonal Stats\n",
    "In the cell below you can change which type of file you are looking at, either CanadaAlaska, or EPA2"
   ]
  },
  {
   "cell_type": "code",
   "execution_count": null,
   "id": "bbc52473-d555-4cd3-955e-c98d67307a3d",
   "metadata": {},
   "outputs": [],
   "source": [
    "# Change these depending on the region you want\n",
    "if visualize == 'CanadaAlaska':\n",
    "    df = canada_alaska.copy()\n",
    "    shapefile = canada_gdf.copy()\n",
    "    key = 'postal'\n",
    "elif visualize == 'EPA2'\n",
    "    df = epa2.copy()\n",
    "    shapefile = epa_gdf.copy()\n",
    "    key = 'NA_L2KEY'"
   ]
  },
  {
   "cell_type": "markdown",
   "id": "498e392f-acfd-4c90-9ac4-4bcbee676bf2",
   "metadata": {},
   "source": [
    "## Bar chart of mean values across a dataset"
   ]
  },
  {
   "cell_type": "code",
   "execution_count": null,
   "id": "ad91ecc9-562b-47c6-8fed-8b37b085ed02",
   "metadata": {},
   "outputs": [],
   "source": [
    "df['Mean'] = pd.to_numeric(df['Mean'], errors='coerce')\n",
    "\n",
    "# Group by Zone and Dataset, then plot the mean values\n",
    "grouped_mean = df.groupby(['Zone', 'dataset'])['Mean'].mean().unstack()\n",
    "grouped_mean.plot(kind='bar', figsize=(12, 6))\n",
    "plt.title('Mean Values Across Datasets by Zone')\n",
    "plt.xlabel('Zone')\n",
    "plt.ylabel('Mean Value')\n",
    "plt.legend(title='Dataset', bbox_to_anchor=(1.05, 1), loc='upper left')\n",
    "plt.tight_layout()\n",
    "plt.show()"
   ]
  },
  {
   "cell_type": "markdown",
   "id": "b2fb3dcf-18d5-4cde-a5cf-b9b1c74d00e4",
   "metadata": {},
   "source": [
    "## Boxplot of Distribution by dataset"
   ]
  },
  {
   "cell_type": "code",
   "execution_count": null,
   "id": "fa6ee415-ef36-4872-ae09-faebc47fd6d7",
   "metadata": {},
   "outputs": [],
   "source": [
    "sns.boxplot(x='dataset', y='Mean', data=df, hue='dataset', palette='mako')\n",
    "plt.title(\"Distribution of Mean Values by Dataset\")\n",
    "plt.ylabel(\"Mean Value\")\n",
    "plt.xticks(rotation=45)\n",
    "plt.tight_layout()\n",
    "plt.show()"
   ]
  },
  {
   "cell_type": "markdown",
   "id": "e6729676-2a16-41e4-99f7-46517946fb26",
   "metadata": {},
   "source": [
    "## Choropleth Maps"
   ]
  },
  {
   "cell_type": "code",
   "execution_count": null,
   "id": "fa133f80-6fa3-4c55-a844-c0bee4e8373f",
   "metadata": {},
   "outputs": [],
   "source": [
    "# Merge DataFrame with GeoDataFrame\n",
    "df_geo = shapefile.merge(df, left_on=key, right_on='Zone')\n",
    "df_geo[['Mean', 'Median', 'Sum', 'Std']] = df_geo[['Mean', 'Median', 'Sum', 'Std']].round(2)\n",
    "\n",
    "# Calculate bounds for scaling\n",
    "global_min = df_geo['Mean'].min()\n",
    "global_max = df_geo['Mean'].max()\n",
    "\n",
    "for dataset in df['dataset'].unique():\n",
    "    df_subset = df_geo[df_geo['dataset'] == dataset]\n",
    "    ax = df_subset.plot(\n",
    "        column='Mean',\n",
    "        cmap='viridis',\n",
    "        legend=True,\n",
    "        figsize=(12, 8),\n",
    "        # Ensures the same color scale\n",
    "        vmin=global_min,\n",
    "        vmax=global_max \n",
    "    )\n",
    "    ax.set_title(f'Choropleth Map of Mean Values ({dataset})', fontsize=14)\n",
    "    ax.set_axis_off()\n",
    "\n",
    "    # Add labels of the mean value\n",
    "    # Should I add a +/- for the standard deviation?\n",
    "    for x, y, mean, std in zip(df_subset.geometry.centroid.x, \n",
    "                           df_subset.geometry.centroid.y, \n",
    "                           df_subset['Mean'].round(2),\n",
    "                           df_subset['Std'].round(2)):\n",
    "        if not pd.isnull(mean):\n",
    "            ax.annotate(\n",
    "                text=f'{mean}', \n",
    "                xy=(x, y), \n",
    "                ha='center', \n",
    "                fontsize=8, \n",
    "                color='black',\n",
    "                bbox=dict(boxstyle=\"round,pad=0.3\", edgecolor='none', facecolor='white', alpha=0.6)\n",
    "            )\n",
    "    plt.show()"
   ]
  },
  {
   "cell_type": "markdown",
   "id": "b0d667cc-f558-42e8-8422-96272a2fbead",
   "metadata": {},
   "source": [
    "## Summary Table using a Heatmap"
   ]
  },
  {
   "cell_type": "code",
   "execution_count": null,
   "id": "a98b7a83-0783-4989-8641-f4241200d682",
   "metadata": {},
   "outputs": [],
   "source": [
    "summary_table = df.groupby(['Zone', 'dataset']).agg(\n",
    "    Mean=('Mean', 'mean'),\n",
    "    Median=('Median', 'mean'),\n",
    "    Sum=('Sum', 'sum'),\n",
    "    Std=('Std', 'mean')\n",
    ")\n",
    "\n",
    "# Could print out summary table\n",
    "#print(summary_table)\n",
    "\n",
    "# Visualize using a heatmap\n",
    "summary_pivot = summary_table.reset_index().pivot(index='Zone', columns='dataset', values='Mean')\n",
    "sns.heatmap(summary_pivot, cmap='coolwarm', annot=True, fmt=\".2f\", cbar_kws={'label': 'Mean Value'})\n",
    "plt.title('Heatmap of Mean Values by Zone and Dataset')\n",
    "plt.show()\n"
   ]
  }
 ],
 "metadata": {
  "kernelspec": {
   "display_name": "ABoVE2024-conda-env",
   "language": "python",
   "name": "auto_above2024"
  },
  "language_info": {
   "codemirror_mode": {
    "name": "ipython",
    "version": 3
   },
   "file_extension": ".py",
   "mimetype": "text/x-python",
   "name": "python",
   "nbconvert_exporter": "python",
   "pygments_lexer": "ipython3",
   "version": "3.12.7"
  }
 },
 "nbformat": 4,
 "nbformat_minor": 5
}
